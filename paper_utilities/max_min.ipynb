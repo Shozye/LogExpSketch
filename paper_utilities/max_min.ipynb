{
 "cells": [
  {
   "cell_type": "code",
   "execution_count": 293,
   "id": "0e72dcc6",
   "metadata": {},
   "outputs": [
    {
     "name": "stdout",
     "output_type": "stream",
     "text": [
      "Global maximum across all sketches: 152\n",
      "Global minimum across all sketches: 128\n",
      "Difference of globals: 24\n",
      "Mean of sketch minima: 129.541\n",
      "Mean of sketch maxima: 143.108\n",
      "Mean (max - min) per sketch: 13.567\n"
     ]
    }
   ],
   "source": [
    "import numpy as np\n",
    "import math\n",
    "\n",
    "# Initialize RNG\n",
    "rng = np.random.default_rng()\n",
    "\n",
    "def get_exp_sketch(m: int, lam: float) -> np.ndarray:\n",
    "    \"\"\"\n",
    "    Generate m i.i.d. exponential random variables with rate lam\n",
    "    \"\"\"\n",
    "    return rng.exponential(scale=1/lam, size=m)\n",
    "\n",
    "def quantize(k: float, expsketch: np.ndarray) -> np.ndarray:\n",
    "    \"\"\"\n",
    "    For each value x in expsketch, return floor(-log_k(x)).\n",
    "    \"\"\"\n",
    "    return np.floor(-np.log(expsketch) / np.log(k)).astype(int)\n",
    "\n",
    "# Parameters\n",
    "m = 1000\n",
    "k = 2.0\n",
    "lam = 1e40\n",
    "n_sketches = 1000\n",
    "\n",
    "# Lists to collect stats\n",
    "minima = []\n",
    "maxima = []\n",
    "ranges = []\n",
    "\n",
    "for _ in range(n_sketches):\n",
    "    exps = get_exp_sketch(m, lam)\n",
    "    logsk = quantize(k, exps)\n",
    "    minima.append(logsk.min())\n",
    "    maxima.append(logsk.max())\n",
    "    ranges.append(logsk.max() - logsk.min())\n",
    "\n",
    "# Compute overall and mean statistics\n",
    "global_max = int(max(maxima))\n",
    "global_min = int(min(minima))\n",
    "mean_min = float(np.mean(minima))\n",
    "mean_max = float(np.mean(maxima))\n",
    "mean_range = float(np.mean(ranges))\n",
    "\n",
    "# Display results\n",
    "print(f\"Global maximum across all sketches: {global_max}\")\n",
    "print(f\"Global minimum across all sketches: {global_min}\")\n",
    "print(f\"Difference of globals: {global_max - global_min}\")\n",
    "print(f\"Mean of sketch minima: {mean_min:.3f}\")\n",
    "print(f\"Mean of sketch maxima: {mean_max:.3f}\")\n",
    "print(f\"Mean (max - min) per sketch: {mean_range:.3f}\")\n"
   ]
  }
 ],
 "metadata": {
  "kernelspec": {
   "display_name": "venv",
   "language": "python",
   "name": "python3"
  },
  "language_info": {
   "codemirror_mode": {
    "name": "ipython",
    "version": 3
   },
   "file_extension": ".py",
   "mimetype": "text/x-python",
   "name": "python",
   "nbconvert_exporter": "python",
   "pygments_lexer": "ipython3",
   "version": "3.12.3"
  }
 },
 "nbformat": 4,
 "nbformat_minor": 5
}
